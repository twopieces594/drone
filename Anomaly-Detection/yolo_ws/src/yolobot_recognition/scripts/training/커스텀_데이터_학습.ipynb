{
  "nbformat": 4,
  "nbformat_minor": 0,
  "metadata": {
    "colab": {
      "provenance": [],
      "gpuType": "T4"
    },
    "kernelspec": {
      "name": "python3",
      "display_name": "Python 3"
    },
    "language_info": {
      "name": "python"
    },
    "accelerator": "GPU"
  },
  "cells": [
    {
      "cell_type": "code",
      "source": [
        "#데이터 받기\n",
        "\n",
        "!wget -O Worker_Data.zip  https://universe.roboflow.com/ds/FEUb7FzC7b?key=mTpx40K336"
      ],
      "metadata": {
        "id": "X4HK4_xCSpju"
      },
      "execution_count": null,
      "outputs": []
    },
    {
      "cell_type": "code",
      "source": [
        "#압축 풀기\n",
        "\n",
        "import zipfile\n",
        "\n",
        "with zipfile.ZipFile('/content/Worker_Data.zip') as target_file:\n",
        "\n",
        "    target_file.extractall('/content/Worker_Data/')"
      ],
      "metadata": {
        "id": "Pol33mD-TqoG"
      },
      "execution_count": 2,
      "outputs": []
    },
    {
      "cell_type": "code",
      "source": [
        "#YAML파일을 만들기 위해 설치\n",
        "\n",
        "!pip install PyYAML"
      ],
      "metadata": {
        "id": "9WG7MTtOUGuF"
      },
      "execution_count": null,
      "outputs": []
    },
    {
      "cell_type": "code",
      "source": [
        "import yaml\n",
        "\n",
        "data = { 'train' : '/content/Worker_Data/train/images/',\n",
        "         'val' : '/content/Worker_Data/valid/images/',\n",
        "         'test' : '/content/Worker_Data/test/images',\n",
        "         'names' : ['Boots', 'Helmet', 'Person', 'Vest'],\n",
        "         'nc' : 4 }\n",
        "\n",
        "with open('/content/Worker_Data/Worker_Data.yaml', 'w') as f:\n",
        "  yaml.dump(data, f)\n",
        "\n",
        "\n",
        "with open('/content/Worker_Data/Worker_Data.yaml', 'r') as f:\n",
        "  worker_yaml = yaml.safe_load(f)\n",
        "  display(worker_yaml)"
      ],
      "metadata": {
        "id": "k7pM0GqXW1qI"
      },
      "execution_count": null,
      "outputs": []
    },
    {
      "cell_type": "code",
      "source": [
        "#YOLO관련 설치\n",
        "\n",
        "!pip install ultralytics"
      ],
      "metadata": {
        "collapsed": true,
        "id": "hvahXVc3bw7i"
      },
      "execution_count": null,
      "outputs": []
    },
    {
      "cell_type": "code",
      "source": [
        "import ultralytics\n",
        "\n",
        "ultralytics.checks()"
      ],
      "metadata": {
        "id": "nBO_6znib0sI"
      },
      "execution_count": null,
      "outputs": []
    },
    {
      "cell_type": "code",
      "source": [
        "from ultralytics import YOLO\n",
        "\n",
        "model = YOLO('yolov8n.pt')  # 훈련된 YOLOv8n detection model 로드\n"
      ],
      "metadata": {
        "id": "oCJ40zVmciPN"
      },
      "execution_count": null,
      "outputs": []
    },
    {
      "cell_type": "code",
      "source": [
        "print(type(model.names), len(model.names))\n",
        "\n",
        "print(model.names)"
      ],
      "metadata": {
        "id": "HhGi2xa8ci07"
      },
      "execution_count": null,
      "outputs": []
    },
    {
      "cell_type": "code",
      "source": [
        "#데이터 학습\n",
        "\n",
        "model.train(data='/content/Worker_Data/Worker_Data.yaml', epochs=100, patience=30, batch=32, imgsz=640)"
      ],
      "metadata": {
        "id": "FtywpQJgdDoP",
        "collapsed": true
      },
      "execution_count": null,
      "outputs": []
    },
    {
      "cell_type": "code",
      "source": [
        "print(type(model.names), len(model.names))\n",
        "\n",
        "print(model.names)"
      ],
      "metadata": {
        "id": "ZAV3uBh0-2Wg"
      },
      "execution_count": null,
      "outputs": []
    },
    {
      "cell_type": "code",
      "source": [
        "#model = YOLO('last.pt')"
      ],
      "metadata": {
        "id": "6LV4zAKRfCLJ"
      },
      "execution_count": null,
      "outputs": []
    },
    {
      "cell_type": "code",
      "source": [
        "#결과 예측\n",
        "\n",
        "results = model.predict(source='/content/Worker_Data/test/images/', save=True)"
      ],
      "metadata": {
        "id": "732B3fLBAXty"
      },
      "execution_count": null,
      "outputs": []
    }
  ]
}